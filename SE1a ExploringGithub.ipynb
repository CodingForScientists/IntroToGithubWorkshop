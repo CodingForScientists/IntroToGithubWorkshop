{
 "cells": [
  {
   "cell_type": "markdown",
   "source": "# Intro to GitHub\n## Browsing GitHub Repositories",
   "metadata": {
    "tags": [],
    "cell_id": "d909acaa-30d4-40f3-afad-0c3982a4bbdd",
    "deepnote_cell_type": "markdown",
    "deepnote_cell_height": 137.953125
   }
  },
  {
   "cell_type": "markdown",
   "source": "### Searching for Repositories",
   "metadata": {
    "cell_id": "4e088df7602d45c6ac90c01ea088baa1",
    "tags": [],
    "deepnote_cell_type": "markdown",
    "deepnote_cell_height": 61.953125
   }
  },
  {
   "cell_type": "markdown",
   "source": "GitHub has some pretty good search functionality for the software it hosts!  You can search software by keywords, filter for specific programming languages, sort by popularity, and even look for specific lines of code!  Let's try it out. \\\n\n\nHello!",
   "metadata": {
    "cell_id": "c586dffa19754707b1008600bb4d4bd6",
    "tags": [],
    "deepnote_cell_type": "markdown",
    "deepnote_cell_height": 111.109375
   }
  },
  {
   "cell_type": "markdown",
   "source": "![search](imgs/github_search.png)",
   "metadata": {
    "cell_id": "572959bb469a412593bfacebe0308ab7",
    "tags": [],
    "deepnote_to_be_reexecuted": false,
    "source_hash": "ef2caf62",
    "execution_start": 1649291769314,
    "execution_millis": 398,
    "deepnote_cell_type": "markdown",
    "deepnote_cell_height": 555.28125
   }
  },
  {
   "cell_type": "markdown",
   "source": "#### Exercises\n\nFor each of the search requests below (after the Q), find the repository and copy-paste the url after the **A:** line.  You can edit text by double-clicking on the box, or clicking once on the text box then pressing the Enter key on the keyboard.",
   "metadata": {
    "cell_id": "2f130f4f4d1242c08cf6c3cdee21d07a",
    "tags": [],
    "deepnote_cell_type": "markdown",
    "deepnote_cell_height": 110.71875
   }
  },
  {
   "cell_type": "markdown",
   "source": "**Q:** Get the URL for a Github repo that contains a Python library that helps with video editing\n\n**A:** https://github.com/nickdelgrosso/crab_pipeline\n\n",
   "metadata": {
    "cell_id": "a5b3c2f5f6e8485e9c9a1ca21e09bd7e",
    "tags": [],
    "deepnote_cell_type": "markdown",
    "deepnote_cell_height": 212.703125
   }
  },
  {
   "cell_type": "markdown",
   "source": "**Q:** Get the URL for a Github repo that contains Jupyter Notebooks that help teach how to learn Python for social science research.\n\n**A:**",
   "metadata": {
    "cell_id": "ec68e832aafa45c1a59a8220bdc10d18",
    "tags": [],
    "deepnote_cell_type": "markdown",
    "deepnote_cell_height": 88.71875
   }
  },
  {
   "cell_type": "markdown",
   "source": "**Q:** Which URL is the link to the \"Awesome\" list of python data science software?\n\n**A:**",
   "metadata": {
    "cell_id": "dece650e0c744af5956cfd1024b11900",
    "tags": [],
    "deepnote_cell_type": "markdown",
    "deepnote_cell_height": 88.71875
   }
  },
  {
   "cell_type": "markdown",
   "source": "### Browsing Repositories\n\nA GitHub repository is essentially the same as a directory on your computer; it contains subdirectories and various files. In the case of code, usually these files are text files, but it can also contain images and various data files.\n\nEvery repository has an organization or user name and a repository name.  For example, in the repo shown in the image below, you can see the following information and more:\n\n  - Organization: wind-python\n  - Repo Name: windpowerlib\n  - Number of Forks (how many times a copy was made by others): 71\n  - Number of Commits (how many times the project was updated): 1523\n\n![repo](imgs/github_repo.png)\n\nAdditionally, you can open folders and files by clicking on their names, or even search inside the repo (in the same search bar we used before).  Let's try it out, exploring a couple repos and get comfortable finding information in them.",
   "metadata": {
    "cell_id": "49b6dd63386c4732a842a6fb81f5de83",
    "tags": [],
    "deepnote_cell_type": "markdown",
    "deepnote_cell_height": 378.78125
   }
  },
  {
   "cell_type": "markdown",
   "source": "#### Exercises",
   "metadata": {
    "cell_id": "606186a9c0d449e989e121a61272d174",
    "tags": [],
    "deepnote_cell_type": "markdown",
    "deepnote_cell_height": 53.953125
   }
  },
  {
   "cell_type": "markdown",
   "source": "Answer the following questions about the following repo:  https://github.com/python/cpython",
   "metadata": {
    "cell_id": "ac714caf2a0a4fd690df17fdaf55520f",
    "tags": [],
    "deepnote_to_be_reexecuted": false,
    "source_hash": "1574b60a",
    "execution_start": 1649280386375,
    "execution_millis": 25,
    "deepnote_cell_type": "markdown",
    "deepnote_cell_height": 52.34375
   }
  },
  {
   "cell_type": "markdown",
   "source": "**Q:** What GitHub organization owns this repo?\n\n**A:**",
   "metadata": {
    "cell_id": "29bebe580c9342229a0ae6868946a522",
    "tags": [],
    "deepnote_cell_type": "markdown",
    "deepnote_cell_height": 88.71875
   }
  },
  {
   "cell_type": "markdown",
   "source": "**Q:** What is the name of this repo (often considered the project's name)?\n\n**A:** ",
   "metadata": {
    "cell_id": "04e50af4a2bd4ede9038041a5fff50f1",
    "tags": [],
    "deepnote_cell_type": "markdown",
    "deepnote_cell_height": 88.71875
   }
  },
  {
   "cell_type": "markdown",
   "source": "**Q:** How many times have people cloned (\"forked\") their own copies of this source code on GitHub?\n\n**A:**",
   "metadata": {
    "cell_id": "25d3245b589841febad385d5cb752347",
    "tags": [],
    "deepnote_cell_type": "markdown",
    "deepnote_cell_height": 88.71875
   }
  },
  {
   "cell_type": "markdown",
   "source": "**Q:** How many contributors have added or edited code to this project on GitHub?\n\n**A:**",
   "metadata": {
    "cell_id": "d0364e838210407b815a7b5a8aaf7913",
    "tags": [],
    "deepnote_cell_type": "markdown",
    "deepnote_cell_height": 88.71875
   }
  },
  {
   "cell_type": "markdown",
   "source": "**Q**: How many different programming languages are used in this project?  Which languages make up the top 95% of the codebase?\n\n**A**:",
   "metadata": {
    "cell_id": "0a4d66c4b2994d0b897efb99f2f331e0",
    "tags": [],
    "deepnote_cell_type": "markdown",
    "deepnote_cell_height": 88.71875
   }
  },
  {
   "cell_type": "markdown",
   "source": "Answer the following questions about the following repo:  https://github.com/pandas-dev/pandas",
   "metadata": {
    "cell_id": "76d72f2b1ccc43f5be592c7b7524d8d1",
    "tags": [],
    "deepnote_to_be_reexecuted": false,
    "source_hash": "1574b60a",
    "execution_start": 1649280386375,
    "execution_millis": 25,
    "deepnote_cell_type": "markdown",
    "deepnote_cell_height": 52.34375
   }
  },
  {
   "cell_type": "markdown",
   "source": "**Q:** What GitHub organization owns this repo?\n\n**A:**",
   "metadata": {
    "cell_id": "4eab49ea2ead4231857397a62fff22dc",
    "tags": [],
    "deepnote_cell_type": "markdown",
    "deepnote_cell_height": 88.71875
   }
  },
  {
   "cell_type": "markdown",
   "source": "**Q:** What is the name of this repo (often considered the project's name)?\n\n**A:** ",
   "metadata": {
    "cell_id": "f65d2ba4aa4f48108b36e803543004e2",
    "tags": [],
    "deepnote_cell_type": "markdown",
    "deepnote_cell_height": 88.71875
   }
  },
  {
   "cell_type": "markdown",
   "source": "**Q:** How many times have people cloned (\"forked\") their own copies of this source code on GitHub?\n\n**A:**",
   "metadata": {
    "cell_id": "1fa3ad05044b4cf7b5ce516e06ed045b",
    "tags": [],
    "deepnote_cell_type": "markdown",
    "deepnote_cell_height": 88.71875
   }
  },
  {
   "cell_type": "markdown",
   "source": "**Q:** How many contributors have added or edited code to this project on GitHub?\n\n**A:**",
   "metadata": {
    "cell_id": "abaad03c688e448991578a8376ec19a9",
    "tags": [],
    "deepnote_cell_type": "markdown",
    "deepnote_cell_height": 88.71875
   }
  },
  {
   "cell_type": "markdown",
   "source": "**Q**: How many different programming languages are used in this project?  Which languages make up the top 95% of the codebase?\n\n**A**:",
   "metadata": {
    "cell_id": "4e4c1e6cb57f44f39784ce55eab21547",
    "tags": [],
    "deepnote_cell_type": "markdown",
    "deepnote_cell_height": 88.71875
   }
  },
  {
   "cell_type": "markdown",
   "source": "### Scanning the README\n\nEvery software project should contain a text file called \"README\".  What should you do when you see this file?  Well, read it, of course!  To help encourage reading READMEs, GitHub automatically displays the contents of the README file when you access the repo: it's the text underneath the list of files, so be sure to scroll down to see the text.\n\nAt the very least, a README should tell you:\n  1. Why the software project exists\n  2. Who it's made for\n  3. What the software does (hopefully with an example or two)\n  4. How to intall it on your computer\n  5. Where to find more-detailed documentation\n\n\n![readme](imgs/github_readme.png)\n",
   "metadata": {
    "cell_id": "a2290b3432c2443a84dc03ab410ce2b9",
    "tags": [],
    "deepnote_cell_type": "markdown",
    "deepnote_cell_height": 359.390625
   }
  },
  {
   "cell_type": "markdown",
   "source": "#### Exercises\n\nLet's take a look at the following software's README: https://github.com/wind-python/windpowerlib, and copy-paste the relevant parts of the readme into the answer of each question.",
   "metadata": {
    "cell_id": "221d1ac2c2b041d5a0b29c251a092b83",
    "tags": [],
    "deepnote_cell_type": "markdown",
    "deepnote_cell_height": 110.71875
   }
  },
  {
   "cell_type": "markdown",
   "source": "**Q:** What does this software do?\n\n**A:** _________",
   "metadata": {
    "cell_id": "bcc72a82835d455d959d33c8c6b96dc3",
    "tags": [],
    "deepnote_cell_type": "markdown",
    "deepnote_cell_height": 88.71875
   }
  },
  {
   "cell_type": "markdown",
   "source": "**Q:** How do you install the software on your computer?\n\n**A:**",
   "metadata": {
    "cell_id": "9cc06acfcc37491490200e587fc45837",
    "tags": [],
    "deepnote_cell_type": "markdown",
    "deepnote_cell_height": 88.71875
   }
  },
  {
   "cell_type": "markdown",
   "source": "**Q:** What's an example of this software's functionality?\n\n**A:** ",
   "metadata": {
    "cell_id": "ccb0b288318a461081c781ed09d60d29",
    "tags": [],
    "deepnote_cell_type": "markdown",
    "deepnote_cell_height": 88.71875
   }
  },
  {
   "cell_type": "markdown",
   "source": "**Q:** Where can you find more-detailed documentation?\n\n**A:** ",
   "metadata": {
    "cell_id": "cc3d594a841a41b59cd7df83990678b3",
    "tags": [],
    "deepnote_cell_type": "markdown",
    "deepnote_cell_height": 88.71875
   }
  },
  {
   "cell_type": "markdown",
   "source": "### Browsing Files",
   "metadata": {
    "cell_id": "2067377b313b431db1a0575941b29b5a",
    "tags": [],
    "deepnote_cell_type": "markdown",
    "deepnote_cell_height": 61.953125
   }
  },
  {
   "cell_type": "markdown",
   "source": "Anything publicly available in GitHub is open source.  At the very least, this means we can read and learn from software's source code!  Let's take a look and see what we can find, as well as get more information about what kinds of permissions we have for using and modifying different software.\n\n![files](imgs/github_file.png)",
   "metadata": {
    "cell_id": "76ae4322e9fb4833855c9927dc961a08",
    "tags": [],
    "deepnote_cell_type": "markdown",
    "deepnote_cell_height": 137.109375
   }
  },
  {
   "cell_type": "markdown",
   "source": "**CPython**: Let's take a look at the Python source code: https://github.com/python/cpython",
   "metadata": {
    "cell_id": "43aed9e3518a4c7cb91431a50119cc08",
    "tags": [],
    "deepnote_to_be_reexecuted": false,
    "source_hash": "545cbf52",
    "execution_start": 1649279904404,
    "execution_millis": 3,
    "deepnote_cell_type": "markdown",
    "deepnote_cell_height": 52.34375
   }
  },
  {
   "cell_type": "markdown",
   "source": "#### Exercises",
   "metadata": {
    "cell_id": "b146ab6e0d9f4488bbf88b7d870d9fd8",
    "tags": [],
    "deepnote_cell_type": "markdown",
    "deepnote_cell_height": 53.953125
   }
  },
  {
   "cell_type": "markdown",
   "source": "**Ratcave**: Please answer the following questions about the repo at https://github.com/ratcave/ratcave",
   "metadata": {
    "cell_id": "83fd18b9d14b4811b6e8675c0f74e920",
    "tags": [],
    "deepnote_cell_type": "markdown",
    "deepnote_cell_height": 52.34375
   }
  },
  {
   "cell_type": "markdown",
   "source": "**Q:** There is a `utils` subfolder in one of the folders of this directory. What is it's web URL  (for example: https://github.com/nickdelgrosso/wordguess/tree/main/wordguess/data)?\n\n**A:**",
   "metadata": {
    "cell_id": "e12da2b396bb4ca287b80139e9decb01",
    "tags": [],
    "deepnote_cell_type": "markdown",
    "deepnote_cell_height": 111.109375
   }
  },
  {
   "cell_type": "markdown",
   "source": "**Q:** How many lines are in the `camera.py` file in the `ratcave` folder?\n\n**A:**",
   "metadata": {
    "cell_id": "62e480b4e4ab4e7d9cfa0ef26f489f37",
    "tags": [],
    "deepnote_to_be_reexecuted": false,
    "source_hash": "f82a04fd",
    "execution_start": 1649278892092,
    "execution_millis": 16,
    "deepnote_cell_type": "markdown",
    "deepnote_cell_height": 88.71875
   }
  },
  {
   "cell_type": "markdown",
   "source": "**Q:** Is this repo \"open source\"?  How can you tell?\n\n**A:**",
   "metadata": {
    "cell_id": "609e9f6306d4403b9245a643ddf08ce5",
    "tags": [],
    "owner_user_id": "c7a9f7f2-eddd-41d5-be7d-5159ad6417bb",
    "deepnote_cell_type": "markdown",
    "deepnote_cell_height": 88.71875
   }
  },
  {
   "cell_type": "markdown",
   "source": "**Q:** What license is this software offered under?  Is it offered free for companies to use commercially?  Is it allowed to be modified?  \n\n**A:**",
   "metadata": {
    "cell_id": "6dc21a83eade4a5cb2ed3692800552a0",
    "tags": [],
    "deepnote_cell_type": "markdown",
    "deepnote_cell_height": 88.71875
   }
  },
  {
   "cell_type": "markdown",
   "source": "**Q:** What file contains the function called `calculate_normals`?  Find the function, then tell Github to select all the code in the function (click on the line number next to the function definition, then shift-click on the line number next to the last line in the function).  Copy the \"perma-link\" to those lines of code below.  (example for the `bind` method here: https://github.com/ratcave/ratcave/blob/master/ratcave/texture.py#L76-L83)\n\n**A:**",
   "metadata": {
    "cell_id": "60cdc0a9a42541c691c72b01e9c26b54",
    "tags": [],
    "deepnote_cell_type": "markdown",
    "deepnote_cell_height": 155.875
   }
  },
  {
   "cell_type": "markdown",
   "source": "**Q:** find the `ProjectionBase` class and click the \"Blame\" button to view the last changes made to each line.  On what date was line 72 last edited?\n\n**A:**",
   "metadata": {
    "cell_id": "ff43af9ee6bb4b6083fa16bf4299b9cd",
    "tags": [],
    "deepnote_cell_type": "markdown",
    "deepnote_cell_height": 111.109375
   }
  },
  {
   "cell_type": "markdown",
   "source": "",
   "metadata": {
    "cell_id": "bd77ebd5ac56479eab52c12edf794152",
    "tags": [],
    "deepnote_cell_type": "markdown",
    "deepnote_cell_height": 45.96875
   }
  },
  {
   "cell_type": "markdown",
   "source": "<a style='text-decoration:none;line-height:16px;display:flex;color:#5B5B62;padding:10px;justify-content:end;' href='https://deepnote.com?utm_source=created-in-deepnote-cell&projectId=3685da68-8645-45fd-87dd-4c628185bb7d' target=\"_blank\">\n<img alt='Created in deepnote.com' style='display:inline;max-height:16px;margin:0px;margin-right:7.5px;' src='data:image/svg+xml;base64,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' > </img>\nCreated in <span style='font-weight:600;margin-left:4px;'>Deepnote</span></a>",
   "metadata": {
    "tags": [],
    "created_in_deepnote_cell": true,
    "deepnote_cell_type": "markdown"
   }
  }
 ],
 "nbformat": 4,
 "nbformat_minor": 2,
 "metadata": {
  "orig_nbformat": 2,
  "deepnote": {
   "is_reactive": false
  },
  "deepnote_notebook_id": "ba72e420-94ac-4517-8720-420f9803d338",
  "deepnote_execution_queue": []
 }
}